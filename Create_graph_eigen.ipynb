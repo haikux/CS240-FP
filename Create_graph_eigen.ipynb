{
 "cells": [
  {
   "cell_type": "code",
   "execution_count": 4,
   "metadata": {},
   "outputs": [
    {
     "name": "stderr",
     "output_type": "stream",
     "text": [
      "/Users/viditjain/Library/Python/3.9/lib/python/site-packages/tqdm/auto.py:21: TqdmWarning: IProgress not found. Please update jupyter and ipywidgets. See https://ipywidgets.readthedocs.io/en/stable/user_install.html\n",
      "  from .autonotebook import tqdm as notebook_tqdm\n"
     ]
    }
   ],
   "source": [
    "import pandas as pd\n",
    "import numpy as np\n",
    "import networkx as nx\n",
    "import swifter"
   ]
  },
  {
   "cell_type": "code",
   "execution_count": 2,
   "metadata": {},
   "outputs": [],
   "source": [
    "routes_df = pd.read_csv('routes_df_as.csv')"
   ]
  },
  {
   "cell_type": "code",
   "execution_count": 3,
   "metadata": {},
   "outputs": [],
   "source": [
    "def removeNones(input):\n",
    "    return [c for c in input if c is not None]"
   ]
  },
  {
   "cell_type": "code",
   "execution_count": 4,
   "metadata": {},
   "outputs": [
    {
     "name": "stderr",
     "output_type": "stream",
     "text": [
      "Pandas Apply: 100%|██████████| 84424650/84424650 [07:02<00:00, 199910.55it/s]\n"
     ]
    }
   ],
   "source": [
    "routes_df_unique = routes_df['0'].swifter.apply(lambda val:removeNones(list(set(eval(val)))))"
   ]
  },
  {
   "cell_type": "code",
   "execution_count": 5,
   "metadata": {},
   "outputs": [],
   "source": [
    "routes_df_unique = [[x for x in c if x is not None] for c in routes_df_unique]"
   ]
  },
  {
   "cell_type": "code",
   "execution_count": 6,
   "metadata": {},
   "outputs": [],
   "source": [
    "routes_df_unique_1 = [c for c in routes_df_unique if len(c) > 1]"
   ]
  },
  {
   "cell_type": "code",
   "execution_count": 7,
   "metadata": {},
   "outputs": [],
   "source": [
    "G = nx.Graph()"
   ]
  },
  {
   "cell_type": "code",
   "execution_count": 8,
   "metadata": {},
   "outputs": [],
   "source": [
    "routes_df_unique_series = pd.Series(routes_df_unique_1)"
   ]
  },
  {
   "cell_type": "code",
   "execution_count": 9,
   "metadata": {},
   "outputs": [
    {
     "name": "stderr",
     "output_type": "stream",
     "text": [
      "Pandas Apply: 100%|██████████| 2618960/2618960 [00:28<00:00, 92253.10it/s]\n"
     ]
    },
    {
     "data": {
      "text/plain": [
       "0          None\n",
       "1          None\n",
       "2          None\n",
       "3          None\n",
       "4          None\n",
       "           ... \n",
       "2618955    None\n",
       "2618956    None\n",
       "2618957    None\n",
       "2618958    None\n",
       "2618959    None\n",
       "Length: 2618960, dtype: object"
      ]
     },
     "execution_count": 9,
     "metadata": {},
     "output_type": "execute_result"
    }
   ],
   "source": [
    "routes_df_unique_series.swifter.apply(lambda link: G.update(nx.complete_graph(link)))"
   ]
  },
  {
   "cell_type": "code",
   "execution_count": 15,
   "metadata": {},
   "outputs": [],
   "source": [
    "nx.adjacency_spectrum(G)"
   ]
  },
  {
   "cell_type": "code",
   "execution_count": 10,
   "metadata": {},
   "outputs": [],
   "source": [
    "import pickle\n",
    "\n",
    "# save graph object to file\n",
    "pickle.dump(G, open('AS_routes.pickle', 'wb'))"
   ]
  },
  {
   "cell_type": "code",
   "execution_count": 1,
   "metadata": {},
   "outputs": [],
   "source": [
    "import pickle\n",
    "\n",
    "G = pickle.load(open('AS_routes.pickle', 'rb'))"
   ]
  },
  {
   "cell_type": "code",
   "execution_count": 37,
   "metadata": {},
   "outputs": [
    {
     "data": {
      "text/plain": [
       "216518"
      ]
     },
     "execution_count": 37,
     "metadata": {},
     "output_type": "execute_result"
    }
   ],
   "source": [
    "len(G.edges())"
   ]
  },
  {
   "cell_type": "code",
   "execution_count": 6,
   "metadata": {},
   "outputs": [],
   "source": [
    "adj_matrix = nx.adjacency_matrix(G)"
   ]
  },
  {
   "cell_type": "code",
   "execution_count": 7,
   "metadata": {},
   "outputs": [
    {
     "data": {
      "text/plain": [
       "<58617x58617 sparse array of type '<class 'numpy.int64'>'\n",
       "\twith 433036 stored elements in Compressed Sparse Row format>"
      ]
     },
     "execution_count": 7,
     "metadata": {},
     "output_type": "execute_result"
    }
   ],
   "source": [
    "adj_matrix"
   ]
  },
  {
   "cell_type": "code",
   "execution_count": 8,
   "metadata": {},
   "outputs": [],
   "source": [
    "from scipy.sparse.linalg import eigs\n",
    "from scipy.linalg import eig, eigh"
   ]
  },
  {
   "cell_type": "code",
   "execution_count": 9,
   "metadata": {},
   "outputs": [],
   "source": [
    "vals, vecs = eigs(adj_matrix.astype(float), k=100)"
   ]
  },
  {
   "cell_type": "code",
   "execution_count": 10,
   "metadata": {},
   "outputs": [],
   "source": [
    "vals_real = [abs(c.real) for c in vals]"
   ]
  },
  {
   "cell_type": "code",
   "execution_count": 11,
   "metadata": {},
   "outputs": [],
   "source": [
    "import matplotlib.pyplot as plt"
   ]
  },
  {
   "cell_type": "code",
   "execution_count": 23,
   "metadata": {},
   "outputs": [],
   "source": [
    "ranks = range(1, len(vals_real)+1)"
   ]
  },
  {
   "cell_type": "code",
   "execution_count": 21,
   "metadata": {},
   "outputs": [],
   "source": [
    "vals_real_log = [np.log(x) for x in vals_real]"
   ]
  },
  {
   "cell_type": "code",
   "execution_count": 24,
   "metadata": {},
   "outputs": [
    {
     "data": {
      "text/plain": [
       "array([[ 1.       , -0.9978523],\n",
       "       [-0.9978523,  1.       ]])"
      ]
     },
     "execution_count": 24,
     "metadata": {},
     "output_type": "execute_result"
    }
   ],
   "source": [
    "np.corrcoef(np.log(vals_real), np.log(ranks))"
   ]
  },
  {
   "cell_type": "code",
   "execution_count": 25,
   "metadata": {},
   "outputs": [],
   "source": [
    "ranks_log = np.log(ranks)"
   ]
  },
  {
   "cell_type": "code",
   "execution_count": null,
   "metadata": {},
   "outputs": [],
   "source": []
  },
  {
   "cell_type": "code",
   "execution_count": 31,
   "metadata": {},
   "outputs": [],
   "source": [
    "from sklearn.linear_model import LinearRegression"
   ]
  },
  {
   "cell_type": "code",
   "execution_count": 34,
   "metadata": {},
   "outputs": [
    {
     "data": {
      "image/png": "[encoded data removed]",
      "text/plain": [
       "<Figure size 640x480 with 1 Axes>"
      ]
     },
     "metadata": {},
     "output_type": "display_data"
    }
   ],
   "source": [
    "\n",
    "\n",
    "plt.scatter(vals_real, y=range(len(vals_real)))\n",
    "plt.yscale('log')\n",
    "plt.xscale('log')\n",
    "plt.xlabel('Rank of eigenvalue - Log')\n",
    "plt.ylabel('eigenvalue - Log')\n",
    "plt.title('Eigenvalue of adjacency matrix')\n",
    "\n",
    "# Linear regression for trendline\n",
    "X = np.log(vals_real).reshape(-1, 1)\n",
    "y = np.log(range(1, len(vals_real)+1))\n",
    "model = LinearRegression().fit(X, y)\n",
    "trendline = model.predict(X)\n",
    "\n",
    "# Plot trendline\n",
    "plt.plot(vals_real, np.exp(trendline), color='red', label='Trendline')\n",
    "\n",
    "# Show plot\n",
    "plt.legend()\n",
    "plt.show()\n"
   ]
  },
  {
   "cell_type": "code",
   "execution_count": 28,
   "metadata": {},
   "outputs": [
    {
     "data": {
      "text/plain": [
       "array([[ 2.09184636e-03+0.j,  2.83703828e-03+0.j, -2.26823940e-03+0.j,\n",
       "        ..., -1.68843034e-05+0.j, -2.03196594e-03+0.j,\n",
       "        -1.88662308e-03+0.j],\n",
       "       [ 1.45603048e-01+0.j, -1.56484652e-01+0.j, -8.80831687e-02+0.j,\n",
       "        ..., -1.06862283e-01+0.j, -1.35589625e-01+0.j,\n",
       "        -5.09144555e-02+0.j],\n",
       "       [ 9.79159035e-04+0.j,  1.29141169e-03+0.j, -1.19651846e-03+0.j,\n",
       "        ..., -2.48163321e-03+0.j,  2.87942597e-04+0.j,\n",
       "        -1.74956609e-03+0.j],\n",
       "       ...,\n",
       "       [ 1.16595633e-05+0.j, -3.27277981e-05+0.j, -2.00333525e-05+0.j,\n",
       "        ...,  6.63691203e-05+0.j,  3.25715622e-05+0.j,\n",
       "        -5.55593818e-05+0.j],\n",
       "       [ 7.56535211e-06+0.j, -2.37739535e-05+0.j, -1.15788475e-05+0.j,\n",
       "        ...,  1.52200331e-05+0.j,  3.57495516e-05+0.j,\n",
       "        -9.31879066e-06+0.j],\n",
       "       [ 4.93924612e-05+0.j, -6.28659874e-05+0.j, -6.70903126e-05+0.j,\n",
       "        ..., -4.04979347e-04+0.j, -1.03808808e-04+0.j,\n",
       "        -1.23234112e-04+0.j]])"
      ]
     },
     "execution_count": 28,
     "metadata": {},
     "output_type": "execute_result"
    }
   ],
   "source": [
    "vecs"
   ]
  },
  {
   "cell_type": "code",
   "execution_count": null,
   "metadata": {},
   "outputs": [],
   "source": []
  }
 ],
 "metadata": {
  "kernelspec": {
   "display_name": "Python 3",
   "language": "python",
   "name": "python3"
  },
  "language_info": {
   "codemirror_mode": {
    "name": "ipython",
    "version": 3
   },
   "file_extension": ".py",
   "mimetype": "text/x-python",
   "name": "python",
   "nbconvert_exporter": "python",
   "pygments_lexer": "ipython3",
   "version": "3.9.6"
  },
  "orig_nbformat": 4
 },
 "nbformat": 4,
 "nbformat_minor": 2
}
