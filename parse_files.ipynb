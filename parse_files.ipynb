{
 "cells": [
  {
   "cell_type": "code",
   "execution_count": 1,
   "metadata": {},
   "outputs": [],
   "source": [
    "import pandas as pd\n",
    "import numpy as np"
   ]
  },
  {
   "cell_type": "code",
   "execution_count": 16,
   "metadata": {},
   "outputs": [],
   "source": [
    "nodes_as_mapping = pd.read_csv('midar-iff.nodes.as.txt', sep = '\\t', header=None)\n",
    "nodes_as_mapping.columns=['node_AS', 'node_id','AS','heuristic_tag']\n",
    "nodes_as_mapping['node_id'] = nodes_as_mapping['node_id'].apply(lambda x : int(x[1:]))\n",
    "nodes_as_mapping = nodes_as_mapping.drop(columns=['node_AS'])\n",
    "nodes_as_mapping = nodes_as_mapping.set_index(['node_id'])\n",
    "node_as_dict = nodes_as_mapping['AS'].transpose().to_dict()"
   ]
  },
  {
   "cell_type": "code",
   "execution_count": 4,
   "metadata": {},
   "outputs": [],
   "source": [
    "# links = pd.read_csv('midar-iff_1.links.txt', sep=',', comment='#', names = ['route'], engine = 'c', lineterminator='l')\n",
    "\n",
    "# links['route'].apply(lambda x : x[5:x.find(':')])\n",
    "\n",
    "# links['link_no'] = links['route'].apply(lambda x : x[5:x.find(':')])\n",
    "# links['route'] = links['route'].apply(lambda x : x[x.find(':')+2:])\n",
    "\n",
    "# links['route'] = links['route'].apply(lambda x : x.strip().replace('\\n',' '))\n",
    "\n",
    "# links['route'].to_csv('routes.csv', index = False)"
   ]
  },
  {
   "cell_type": "code",
   "execution_count": 51,
   "metadata": {},
   "outputs": [],
   "source": [
    "def convertToInt(input:str):\n",
    "    if input is None or not isinstance(input, str):\n",
    "        return None\n",
    "    if input.find(':') != -1:\n",
    "        return int(input[1:input.find(':')])\n",
    "    return int(input[1:])"
   ]
  },
  {
   "cell_type": "code",
   "execution_count": 103,
   "metadata": {},
   "outputs": [],
   "source": [
    "routes_df = pd.Series()\n",
    "routes_df_as = pd.Series()"
   ]
  },
  {
   "cell_type": "code",
   "execution_count": 110,
   "metadata": {},
   "outputs": [
    {
     "name": "stdout",
     "output_type": "stream",
     "text": [
      "70400000\n",
      "71400000\n",
      "72400000\n",
      "73400000\n",
      "74400000\n",
      "75400000\n",
      "76400000\n",
      "77400000\n",
      "78400000\n",
      "79400000\n",
      "80400000\n",
      "81400000\n",
      "82400000\n",
      "83400000\n",
      "84400000\n"
     ]
    }
   ],
   "source": [
    "batch_size = 100000\n",
    "this_size = batch_size\n",
    "iteration = 0\n",
    "while this_size == batch_size:\n",
    "    new_batch = pd.read_csv('routes.csv', nrows = batch_size, skiprows = len(routes_df), header = None)\n",
    "    \n",
    "    new_batch = new_batch[0].str.split(' ')\n",
    "    new_batch = new_batch.apply(lambda x:[convertToInt(node) for node in x])\n",
    "    new_batch_as = new_batch.apply(lambda x: [node_as_dict.get(node) for node in x])\n",
    "    \n",
    "    this_size = len(new_batch)\n",
    "    routes_df = pd.concat([routes_df, new_batch])\n",
    "    routes_df_as = pd.concat([routes_df_as, new_batch_as])\n",
    "    iteration = iteration + 1\n",
    "    if iteration%10 == 0:\n",
    "        print(len(routes_df))"
   ]
  },
  {
   "cell_type": "code",
   "execution_count": null,
   "metadata": {},
   "outputs": [],
   "source": []
  },
  {
   "cell_type": "code",
   "execution_count": 109,
   "metadata": {},
   "outputs": [
    {
     "data": {
      "text/plain": [
       "69400000"
      ]
     },
     "execution_count": 109,
     "metadata": {},
     "output_type": "execute_result"
    }
   ],
   "source": [
    "len(routes_df)"
   ]
  },
  {
   "cell_type": "code",
   "execution_count": 106,
   "metadata": {},
   "outputs": [],
   "source": [
    "routes_df.to_csv('routes_df.csv')"
   ]
  },
  {
   "cell_type": "code",
   "execution_count": 107,
   "metadata": {},
   "outputs": [],
   "source": [
    "routes_df_as.to_csv('routes_df_as.csv')"
   ]
  },
  {
   "cell_type": "code",
   "execution_count": null,
   "metadata": {},
   "outputs": [],
   "source": []
  },
  {
   "cell_type": "code",
   "execution_count": null,
   "metadata": {},
   "outputs": [],
   "source": []
  },
  {
   "cell_type": "code",
   "execution_count": null,
   "metadata": {},
   "outputs": [],
   "source": []
  },
  {
   "cell_type": "code",
   "execution_count": 97,
   "metadata": {},
   "outputs": [
    {
     "data": {
      "text/plain": [
       "416972"
      ]
     },
     "execution_count": 97,
     "metadata": {},
     "output_type": "execute_result"
    }
   ],
   "source": [
    "len(routes)"
   ]
  },
  {
   "cell_type": "code",
   "execution_count": 106,
   "metadata": {},
   "outputs": [
    {
     "data": {
      "text/plain": [
       "84524650"
      ]
     },
     "execution_count": 106,
     "metadata": {},
     "output_type": "execute_result"
    }
   ],
   "source": [
    "len(links['route'])"
   ]
  },
  {
   "cell_type": "code",
   "execution_count": 98,
   "metadata": {},
   "outputs": [],
   "source": [
    "routes = routes.apply(lambda link : [AS for AS in link if AS is not None])"
   ]
  },
  {
   "cell_type": "code",
   "execution_count": 99,
   "metadata": {},
   "outputs": [],
   "source": [
    "import networkx as nx"
   ]
  },
  {
   "cell_type": "code",
   "execution_count": 100,
   "metadata": {},
   "outputs": [],
   "source": [
    "G = nx.Graph()"
   ]
  },
  {
   "cell_type": "code",
   "execution_count": 101,
   "metadata": {},
   "outputs": [
    {
     "data": {
      "text/plain": [
       "[12400, 11061]"
      ]
     },
     "execution_count": 101,
     "metadata": {},
     "output_type": "execute_result"
    }
   ],
   "source": [
    "routes[0]"
   ]
  },
  {
   "cell_type": "code",
   "execution_count": 102,
   "metadata": {},
   "outputs": [
    {
     "data": {
      "text/plain": [
       "0         None\n",
       "1         None\n",
       "2         None\n",
       "3         None\n",
       "4         None\n",
       "          ... \n",
       "416967    None\n",
       "416968    None\n",
       "416969    None\n",
       "416970    None\n",
       "416971    None\n",
       "Length: 416972, dtype: object"
      ]
     },
     "execution_count": 102,
     "metadata": {},
     "output_type": "execute_result"
    }
   ],
   "source": [
    "routes.apply(lambda link: G.update(nx.complete_graph(link)))"
   ]
  },
  {
   "cell_type": "code",
   "execution_count": 117,
   "metadata": {},
   "outputs": [],
   "source": [
    "deg_count = {}"
   ]
  },
  {
   "cell_type": "code",
   "execution_count": 118,
   "metadata": {},
   "outputs": [],
   "source": [
    "for node in G.nodes():\n",
    "    deg_count[nx.degree(G, node)] = deg_count.get(nx.degree(G, node), 0)+1"
   ]
  },
  {
   "cell_type": "code",
   "execution_count": 127,
   "metadata": {},
   "outputs": [
    {
     "ename": "ModuleNotFoundError",
     "evalue": "No module named 'matplotlib'",
     "output_type": "error",
     "traceback": [
      "\u001b[0;31m---------------------------------------------------------------------------\u001b[0m",
      "\u001b[0;31mModuleNotFoundError\u001b[0m                       Traceback (most recent call last)",
      "Cell \u001b[0;32mIn[127], line 1\u001b[0m\n\u001b[0;32m----> 1\u001b[0m \u001b[39mimport\u001b[39;00m \u001b[39mmatplotlib\u001b[39;00m\u001b[39m.\u001b[39;00m\u001b[39mpyplot\u001b[39;00m \u001b[39mas\u001b[39;00m \u001b[39mplt\u001b[39;00m\n",
      "\u001b[0;31mModuleNotFoundError\u001b[0m: No module named 'matplotlib'"
     ]
    }
   ],
   "source": [
    "import matplotlib.pyplot as plt"
   ]
  },
  {
   "cell_type": "code",
   "execution_count": 134,
   "metadata": {},
   "outputs": [
    {
     "data": {
      "text/plain": [
       "<Axes: xlabel='index', ylabel='0'>"
      ]
     },
     "execution_count": 134,
     "metadata": {},
     "output_type": "execute_result"
    },
    {
     "data": {
      "image/png": "[encoded data removed]",
      "text/plain": [
       "<Figure size 640x480 with 1 Axes>"
      ]
     },
     "metadata": {},
     "output_type": "display_data"
    }
   ],
   "source": [
    "pd.Series(deg_count).sort_index().reset_index().plot(kind='scatter', x='index', y=0)"
   ]
  },
  {
   "cell_type": "code",
   "execution_count": null,
   "metadata": {},
   "outputs": [],
   "source": []
  },
  {
   "cell_type": "code",
   "execution_count": null,
   "metadata": {},
   "outputs": [],
   "source": [
    "route"
   ]
  }
 ],
 "metadata": {
  "kernelspec": {
   "display_name": "Python 3",
   "language": "python",
   "name": "python3"
  },
  "language_info": {
   "codemirror_mode": {
    "name": "ipython",
    "version": 3
   },
   "file_extension": ".py",
   "mimetype": "text/x-python",
   "name": "python",
   "nbconvert_exporter": "python",
   "pygments_lexer": "ipython3",
   "version": "3.9.6"
  },
  "orig_nbformat": 4
 },
 "nbformat": 4,
 "nbformat_minor": 2
}
